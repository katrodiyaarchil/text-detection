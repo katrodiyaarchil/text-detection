{
 "cells": [
  {
   "cell_type": "code",
   "execution_count": 1,
   "metadata": {},
   "outputs": [],
   "source": [
    "from imutils.contours import sort_contours\n",
    "import numpy as np\n",
    "import imutils\n",
    "import cv2\n",
    "import pickle"
   ]
  },
  {
   "cell_type": "code",
   "execution_count": 2,
   "metadata": {},
   "outputs": [
    {
     "name": "stderr",
     "output_type": "stream",
     "text": [
      "Using TensorFlow backend.\n"
     ]
    },
    {
     "name": "stdout",
     "output_type": "stream",
     "text": [
      "WARNING:tensorflow:From C:\\Users\\kevin\\Anaconda3\\lib\\site-packages\\tensorflow\\python\\ops\\resource_variable_ops.py:435: colocate_with (from tensorflow.python.framework.ops) is deprecated and will be removed in a future version.\n",
      "Instructions for updating:\n",
      "Colocations handled automatically by placer.\n",
      "WARNING:tensorflow:From C:\\Users\\kevin\\Anaconda3\\lib\\site-packages\\tensorflow\\python\\ops\\math_ops.py:3066: to_int32 (from tensorflow.python.ops.math_ops) is deprecated and will be removed in a future version.\n",
      "Instructions for updating:\n",
      "Use tf.cast instead.\n"
     ]
    }
   ],
   "source": [
    "loaded_model = pickle.load(open('Pickle_Model.pkl', 'rb'))"
   ]
  },
  {
   "cell_type": "code",
   "execution_count": 3,
   "metadata": {},
   "outputs": [],
   "source": [
    "image = cv2.imread('K-K-K.jpg')\n",
    "gray = cv2.cvtColor(image, cv2.COLOR_BGR2GRAY)\n",
    "blurred = cv2.GaussianBlur(gray, (5, 5), 0)\n",
    "dst = cv2.fastNlMeansDenoisingColored(image,None,10,10,7,21)"
   ]
  },
  {
   "cell_type": "code",
   "execution_count": 4,
   "metadata": {},
   "outputs": [],
   "source": [
    "edged = cv2.Canny(dst, 30, 150)\n",
    "cnts,h = cv2.findContours(edged.copy(), cv2.RETR_EXTERNAL,cv2.CHAIN_APPROX_SIMPLE)\n",
    "cnts = sort_contours(cnts, method=\"left-to-right\")[0]\n"
   ]
  },
  {
   "cell_type": "code",
   "execution_count": 5,
   "metadata": {},
   "outputs": [],
   "source": [
    "chars = []"
   ]
  },
  {
   "cell_type": "code",
   "execution_count": 6,
   "metadata": {},
   "outputs": [],
   "source": [
    "for c in cnts:\n",
    "\n",
    "    (x, y, w, h) = cv2.boundingRect(c)\n",
    "\n",
    "\n",
    "    if (w >= 5 and w <= 150) and (h >= 15 and h <= 120):\n",
    "\n",
    "        roi = gray[y:y + h, x:x + w]\n",
    "        thresh = cv2.threshold(roi, 150, 255,\n",
    "            cv2.THRESH_BINARY_INV | cv2.THRESH_OTSU)[1]\n",
    "        (tH, tW) = thresh.shape\n",
    "\n",
    "        if tW > tH:\n",
    "            thresh = imutils.resize(thresh, width=28)\n",
    "        else:\n",
    "            thresh = imutils.resize(thresh, height=28)\n",
    "            \n",
    "        (tH, tW) = thresh.shape\n",
    "        dX = int(max(0, 28 - tW) / 2.0)\n",
    "        dY = int(max(0, 28 - tH) / 2.0)\n",
    "\n",
    "        padded = cv2.copyMakeBorder(thresh, top=dY, bottom=dY,\n",
    "            left=dX, right=dX, borderType=cv2.BORDER_CONSTANT,\n",
    "            value=(0, 0, 0))\n",
    "        padded = cv2.resize(padded, (28, 28))\n",
    "\n",
    "\n",
    "        padded = padded.astype(\"float32\") / 255.0\n",
    "        padded = np.expand_dims(padded, axis=-1)\n",
    "\n",
    "        chars.append((padded, (x, y, w, h)))"
   ]
  },
  {
   "cell_type": "code",
   "execution_count": 7,
   "metadata": {},
   "outputs": [],
   "source": [
    "boxes = [b[1] for b in chars]\n",
    "chars = np.array([c[0] for c in chars], dtype=\"float32\")\n",
    "preds = loaded_model.predict(chars)\n",
    "labelNames = \"0123456789\"\n",
    "labelNames += \"ABCDEFGHIJKLMNOPQRSTUVWXYZ\"\n",
    "labelNames = [l for l in labelNames]"
   ]
  },
  {
   "cell_type": "code",
   "execution_count": 8,
   "metadata": {},
   "outputs": [
    {
     "name": "stdout",
     "output_type": "stream",
     "text": [
      "[INFO] K - 55.49%\n",
      "[INFO] E - 0.40%\n",
      "[INFO] V - 11.73%\n",
      "[INFO] I - 0.32%\n",
      "[INFO] N - 0.54%\n"
     ]
    }
   ],
   "source": [
    "lst=list()\n",
    "word=\"\"\n",
    "for (pred, (x, y, w, h)) in zip(preds, boxes):\n",
    "\n",
    "    i = np.argmax(pred)\n",
    "    prob = pred[i]\n",
    "    label = labelNames[i]\n",
    "\n",
    "    print(\"[INFO] {} - {:.2f}%\".format(label, prob * 100))\n",
    "    cv2.rectangle(image, (x, y), (x + w, y + h), (0, 255, 0), 2)\n",
    "    \n",
    "    word+=label\n",
    "    \n",
    "    cv2.putText(image, label, (x - 10, y - 10),\n",
    "        cv2.FONT_HERSHEY_SIMPLEX, 1.2, (0, 255, 0), 2)\n",
    "    \n",
    "    \n",
    "\n",
    "    cv2.imshow(\"Image\", image)\n",
    "    cv2.waitKey(0)"
   ]
  },
  {
   "cell_type": "code",
   "execution_count": 9,
   "metadata": {},
   "outputs": [
    {
     "name": "stdout",
     "output_type": "stream",
     "text": [
      "KEVIN\n"
     ]
    }
   ],
   "source": [
    "print(word)"
   ]
  }
 ],
 "metadata": {
  "kernelspec": {
   "display_name": "Python 3",
   "language": "python",
   "name": "python3"
  },
  "language_info": {
   "codemirror_mode": {
    "name": "ipython",
    "version": 3
   },
   "file_extension": ".py",
   "mimetype": "text/x-python",
   "name": "python",
   "nbconvert_exporter": "python",
   "pygments_lexer": "ipython3",
   "version": "3.7.3"
  }
 },
 "nbformat": 4,
 "nbformat_minor": 2
}
